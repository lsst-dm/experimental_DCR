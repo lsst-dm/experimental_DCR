{
 "cells": [
  {
   "cell_type": "markdown",
   "metadata": {},
   "source": [
    "# LSST Simulation generation\n",
    "This notebook is a wrapper for StarFast, which generates simulated images with realistic stellar distributions and spectra, psf and filters, and detailed atmospheric differential chromatic refraction (DCR)"
   ]
  },
  {
   "cell_type": "code",
   "execution_count": 1,
   "metadata": {
    "collapsed": true
   },
   "outputs": [],
   "source": [
    "import os\n",
    "import imp\n",
    "import numpy as np\n",
    "import cPickle\n",
    "import galsim\n",
    "from lsst.afw.geom import Angle\n",
    "from lsst.sims.photUtils import matchStar\n",
    "\n",
    "imp.load_source('calc_refractive_index', '/Users/sullivan/LSST/code/StarFast/calc_refractive_index.py')\n",
    "imp.load_source('fast_dft', '/Users/sullivan/LSST/code/StarFast/fast_dft.py')\n",
    "imp.load_source('StarFast', '/Users/sullivan/LSST/code/StarFast/StarFast.py')\n",
    "from StarFast import StarSim\n",
    "\n",
    "lsst_lat = Angle(np.radians(-30.244639))\n",
    "lsst_lon = Angle(np.radians(-70.749417))\n",
    "lsst_alt = 2663."
   ]
  },
  {
   "cell_type": "markdown",
   "metadata": {},
   "source": [
    "Set up the general parameters to use for all of the simulations "
   ]
  },
  {
   "cell_type": "code",
   "execution_count": 2,
   "metadata": {
    "collapsed": true
   },
   "outputs": [],
   "source": [
    "seed = 5  # Seed for the random number generator. Simulations with the same seed are reproduceable\n",
    "dimension = 1024  # Number of pixels on a side for the simulated image\n",
    "n_star = 10000  # Number of stars to model in the simulated catalog.\n",
    "# The catalog covers an area ~4x larger than the area, to allow simulated rotations and dithering observations\n",
    "pixel_scale = 0.25  # plate scale, in arcseconds/pixel\n",
    "psf_fwhm = 0.25  # FWHM of the PSF, in arcseconds\n",
    "hottest_star = 'B'  # Hottest star to include (types are 'OBAFGKMR')\n",
    "coolest_star = 'M'  # Coolest star to include\n",
    "wavelength_step = 10  # Wavelength resolution of the spectra and calculation of filter and DCR effects. In nm.\n",
    "ra_offset = Angle(0)  # Additional offset in RA from the field center, for dithering. In radians as an LSST Angle object\n",
    "dec_offset = Angle(0)  # Additional offset in Dec from the field center, for dithering. In radians as an LSST Angle object\n",
    "sky_rotation = 0.0  # Sky rotation angle, in Degrees. I realize this is different than RA and Dec\n",
    "exposureId = 0  # Unique exposure identification number. Also used as the \"OBSID\"\n",
    "instrument_noise = 0.  # Adds noise akin to instrumental noise (post-PSF). Set to 1.0 for default value, can be scaled up or down\n",
    "photon_noise = 1./15.  # Adds poisson noise akin to photon shot noise. Set to 1.0 for default value, can be scaled up or down\n",
    "sky_noise = 0  # Adds noise prior to convolving with the PSF.\n",
    "elevation_min = 30.0  # Minimum observation elevation angle to simulate, in degrees\n",
    "elevation_max = 90.0  # Open maximum observation angle, in degrees. Only anlges less than elevation_max will be simulated\n",
    "elevation_step = 5  # Elevation angle step size, in degrees.\n",
    "output_directory = \"/Users/sullivan/LSST/simulations/test%1i/\" % seed  # Path to the directory to save output\n",
    "band_dict = {'u': 0, 'g': 1, 'r': 2, 'i': 3, 'z': 4, 'y': 5}  # LSST filter numbers used by the butler"
   ]
  },
  {
   "cell_type": "code",
   "execution_count": 3,
   "metadata": {
    "collapsed": true
   },
   "outputs": [],
   "source": [
    "ra = lsst_lon + ra_offset\n",
    "dec = lsst_lat + dec_offset"
   ]
  },
  {
   "cell_type": "markdown",
   "metadata": {},
   "source": [
    "Load simulated Kurucz stellar SEDs. Cache the list for later use."
   ]
  },
  {
   "cell_type": "code",
   "execution_count": 4,
   "metadata": {
    "collapsed": true
   },
   "outputs": [],
   "source": [
    "pickle_file = 'sed_list.pickle'\n",
    "if os.path.exists(pickle_file):\n",
    "    with open(pickle_file, 'rb') as dumpfile:\n",
    "        sed_list = cPickle.load(dumpfile)\n",
    "else:\n",
    "    matchStarObj = matchStar()\n",
    "    sed_list = matchStarObj.loadKuruczSEDs()\n",
    "    with open(pickle_file, 'wb') as dumpfile:\n",
    "        cPickle.dump(sed_list, dumpfile, cPickle.HIGHEST_PROTOCOL)"
   ]
  },
  {
   "cell_type": "markdown",
   "metadata": {},
   "source": [
    "Set up the PSF."
   ]
  },
  {
   "cell_type": "code",
   "execution_count": 5,
   "metadata": {
    "collapsed": true
   },
   "outputs": [],
   "source": [
    "gsp = galsim.GSParams(folding_threshold=1.0 / (dimension), maximum_fft_size=12288)\n",
    "psf = galsim.Kolmogorov(fwhm=psf_fwhm / pixel_scale, flux=1, gsparams=gsp)"
   ]
  },
  {
   "cell_type": "markdown",
   "metadata": {},
   "source": [
    "# u-band simulation"
   ]
  },
  {
   "cell_type": "code",
   "execution_count": 6,
   "metadata": {
    "collapsed": true
   },
   "outputs": [],
   "source": [
    "band_name = 'u'"
   ]
  },
  {
   "cell_type": "code",
   "execution_count": 7,
   "metadata": {
    "collapsed": false
   },
   "outputs": [],
   "source": [
    "sim = StarSim(psf=psf, pixel_scale=pixel_scale, x_size=dimension, y_size=dimension,\n",
    "              band_name=band_name, wavelength_step=wavelength_step,\n",
    "              sed_list=sed_list, ra=ra, dec=dec, sky_rotation=sky_rotation)"
   ]
  },
  {
   "cell_type": "markdown",
   "metadata": {},
   "source": [
    "Simulate a catalog of stars, with fluxes and SEDs"
   ]
  },
  {
   "cell_type": "code",
   "execution_count": 8,
   "metadata": {
    "collapsed": false
   },
   "outputs": [
    {
     "name": "stdout",
     "output_type": "stream",
     "text": [
      "Number and flux contribution of stars of each type:\n",
      " [M 7642| 1.85%] [K 1213| 2.21%] [G 751| 4.25%] [F 329| 5.55%] [A 60| 11.72%] [B 5| 74.43%] [O 0| 0.00%]\n"
     ]
    }
   ],
   "source": [
    "sim.load_catalog(n_star=n_star, hottest_star=hottest_star, coolest_star=coolest_star, seed=seed)"
   ]
  },
  {
   "cell_type": "markdown",
   "metadata": {},
   "source": [
    "Write the catalog to disk. Note that this catalog includes fluxes for all 6 LSST bands if filter_list is None"
   ]
  },
  {
   "cell_type": "code",
   "execution_count": 9,
   "metadata": {
    "collapsed": false
   },
   "outputs": [
    {
     "name": "stdout",
     "output_type": "stream",
     "text": [
      "Writing 1917 stars brighter than 16.0 mag to reference catalog in 6 bands\n",
      "Min/max magnitude:  4.6198589147 20.8877358187\n"
     ]
    }
   ],
   "source": [
    "sim.make_reference_catalog(output_directory=output_directory + \"and_files/\", filter_list=None, magnitude_limit=16.0)"
   ]
  },
  {
   "cell_type": "markdown",
   "metadata": {},
   "source": [
    "Generate the raw simulation"
   ]
  },
  {
   "cell_type": "code",
   "execution_count": 9,
   "metadata": {
    "collapsed": false
   },
   "outputs": [
    {
     "name": "stdout",
     "output_type": "stream",
     "text": [
      "Simulating 2464 stars within observable region\n",
      "Time to model 2458 stars: [6.601s | 0.00269s per star]\n",
      "Time to model 6 bright stars: [5.130s | 0.85507s per star]\n"
     ]
    }
   ],
   "source": [
    "sim.simulate()"
   ]
  },
  {
   "cell_type": "code",
   "execution_count": 10,
   "metadata": {
    "collapsed": true
   },
   "outputs": [],
   "source": [
    "from lsst.sims.photUtils import Bandpass, matchStar, PhotometricParameters\n",
    "photo = PhotometricParameters(exptime=30., nexp=1, platescale=0.25, bandpass='g')"
   ]
  },
  {
   "cell_type": "code",
   "execution_count": 11,
   "metadata": {
    "collapsed": false,
    "scrolled": true
   },
   "outputs": [
    {
     "name": "stdout",
     "output_type": "stream",
     "text": [
      "FFT timing for 8 DCR planes: [2.235s | 0.279s per plane]\n",
      "FFT timing for 8 DCR planes: [7.801s | 0.975s per plane]\n",
      "FFT timing for 8 DCR planes: [1.987s | 0.248s per plane]\n",
      "FFT timing for 8 DCR planes: [8.071s | 1.009s per plane]\n",
      "FFT timing for 8 DCR planes: [1.994s | 0.249s per plane]\n",
      "FFT timing for 8 DCR planes: [8.146s | 1.018s per plane]\n",
      "FFT timing for 8 DCR planes: [1.935s | 0.242s per plane]\n",
      "FFT timing for 8 DCR planes: [7.726s | 0.966s per plane]\n",
      "FFT timing for 8 DCR planes: [1.896s | 0.237s per plane]\n",
      "FFT timing for 8 DCR planes: [7.846s | 0.981s per plane]\n",
      "FFT timing for 8 DCR planes: [1.883s | 0.235s per plane]\n",
      "FFT timing for 8 DCR planes: [7.856s | 0.982s per plane]\n",
      "FFT timing for 8 DCR planes: [1.970s | 0.246s per plane]\n",
      "FFT timing for 8 DCR planes: [7.720s | 0.965s per plane]\n",
      "FFT timing for 8 DCR planes: [1.891s | 0.236s per plane]\n",
      "FFT timing for 8 DCR planes: [7.724s | 0.965s per plane]\n",
      "FFT timing for 8 DCR planes: [1.964s | 0.246s per plane]\n",
      "FFT timing for 8 DCR planes: [8.959s | 1.120s per plane]\n",
      "FFT timing for 8 DCR planes: [2.271s | 0.284s per plane]\n",
      "FFT timing for 8 DCR planes: [10.837s | 1.355s per plane]\n",
      "FFT timing for 8 DCR planes: [2.281s | 0.285s per plane]\n",
      "FFT timing for 8 DCR planes: [9.787s | 1.223s per plane]\n",
      "FFT timing for 8 DCR planes: [2.027s | 0.253s per plane]\n",
      "FFT timing for 8 DCR planes: [8.398s | 1.050s per plane]\n",
      "FFT timing for 8 DCR planes: [2.032s | 0.254s per plane]\n",
      "FFT timing for 8 DCR planes: [8.378s | 1.047s per plane]\n",
      "FFT timing for 8 DCR planes: [2.100s | 0.263s per plane]\n",
      "FFT timing for 8 DCR planes: [8.010s | 1.001s per plane]\n",
      "FFT timing for 8 DCR planes: [1.882s | 0.235s per plane]\n",
      "FFT timing for 8 DCR planes: [7.502s | 0.938s per plane]\n",
      "FFT timing for 8 DCR planes: [1.897s | 0.237s per plane]\n",
      "FFT timing for 8 DCR planes: [7.526s | 0.941s per plane]\n",
      "FFT timing for 8 DCR planes: [1.896s | 0.237s per plane]\n",
      "FFT timing for 8 DCR planes: [7.521s | 0.940s per plane]\n",
      "FFT timing for 8 DCR planes: [1.892s | 0.236s per plane]\n",
      "FFT timing for 8 DCR planes: [7.514s | 0.939s per plane]\n",
      "FFT timing for 8 DCR planes: [1.881s | 0.235s per plane]\n",
      "FFT timing for 8 DCR planes: [7.481s | 0.935s per plane]\n",
      "FFT timing for 8 DCR planes: [1.890s | 0.236s per plane]\n",
      "FFT timing for 8 DCR planes: [7.504s | 0.938s per plane]\n",
      "FFT timing for 8 DCR planes: [1.885s | 0.236s per plane]\n",
      "FFT timing for 8 DCR planes: [7.480s | 0.935s per plane]\n",
      "FFT timing for 8 DCR planes: [1.874s | 0.234s per plane]\n",
      "FFT timing for 8 DCR planes: [7.485s | 0.936s per plane]\n",
      "FFT timing for 8 DCR planes: [1.889s | 0.236s per plane]\n",
      "FFT timing for 8 DCR planes: [7.581s | 0.948s per plane]\n",
      "FFT timing for 8 DCR planes: [1.880s | 0.235s per plane]\n",
      "FFT timing for 8 DCR planes: [7.490s | 0.936s per plane]\n"
     ]
    }
   ],
   "source": [
    "expId = exposureId + 100*band_dict[band_name]\n",
    "for elevation in np.arange(elevation_min, elevation_max, elevation_step):\n",
    "    for azimuth in [0.0, 180.0]:\n",
    "        exposure = sim.convolve(elevation=elevation, azimuth=azimuth,\n",
    "                                instrument_noise=instrument_noise, sky_noise=sky_noise,\n",
    "                                photon_noise=photon_noise, exposureId=expId, obsid=expId)\n",
    "        filename = \"lsst_e_%3.3i_f%i_R22_S11_E000.fits\" % (expId, band_dict[band_name])\n",
    "        expId += 1\n",
    "        exposure.writeFits(output_directory + \"images/\" + filename)"
   ]
  },
  {
   "cell_type": "markdown",
   "metadata": {},
   "source": [
    "# g-band simulation"
   ]
  },
  {
   "cell_type": "code",
   "execution_count": 12,
   "metadata": {
    "collapsed": true
   },
   "outputs": [],
   "source": [
    "band_name = 'g'"
   ]
  },
  {
   "cell_type": "code",
   "execution_count": 13,
   "metadata": {
    "collapsed": false
   },
   "outputs": [],
   "source": [
    "sim = StarSim(psf=psf, pixel_scale=pixel_scale, x_size=dimension, y_size=dimension,\n",
    "              band_name=band_name, wavelength_step=wavelength_step,\n",
    "              sed_list=sed_list, ra=ra, dec=dec, sky_rotation=sky_rotation)"
   ]
  },
  {
   "cell_type": "markdown",
   "metadata": {},
   "source": [
    "Simulate a catalog of stars, with fluxes and SEDs"
   ]
  },
  {
   "cell_type": "code",
   "execution_count": 14,
   "metadata": {
    "collapsed": false
   },
   "outputs": [
    {
     "name": "stdout",
     "output_type": "stream",
     "text": [
      "Number and flux contribution of stars of each type:\n",
      " [M 7642| 1.85%] [K 1213| 2.21%] [G 751| 4.25%] [F 329| 5.55%] [A 60| 11.72%] [B 5| 74.43%] [O 0| 0.00%]\n"
     ]
    }
   ],
   "source": [
    "sim.load_catalog(n_star=n_star, hottest_star=hottest_star, coolest_star=coolest_star, seed=seed)"
   ]
  },
  {
   "cell_type": "markdown",
   "metadata": {},
   "source": [
    "Generate the raw simulation"
   ]
  },
  {
   "cell_type": "code",
   "execution_count": 15,
   "metadata": {
    "collapsed": false
   },
   "outputs": [
    {
     "name": "stdout",
     "output_type": "stream",
     "text": [
      "Simulating 2464 stars within observable region\n",
      "Time to model 2459 stars: [9.178s | 0.00373s per star]\n",
      "Time to model 5 bright stars: [7.256s | 1.45120s per star]\n"
     ]
    }
   ],
   "source": [
    "sim.simulate()"
   ]
  },
  {
   "cell_type": "code",
   "execution_count": 16,
   "metadata": {
    "collapsed": false,
    "scrolled": true
   },
   "outputs": [
    {
     "name": "stdout",
     "output_type": "stream",
     "text": [
      "FFT timing for 15 DCR planes: [3.524s | 0.235s per plane]\n",
      "FFT timing for 15 DCR planes: [13.738s | 0.916s per plane]\n",
      "FFT timing for 15 DCR planes: [3.303s | 0.220s per plane]\n",
      "FFT timing for 15 DCR planes: [13.493s | 0.900s per plane]\n",
      "FFT timing for 15 DCR planes: [3.308s | 0.221s per plane]\n",
      "FFT timing for 15 DCR planes: [13.447s | 0.896s per plane]\n",
      "FFT timing for 15 DCR planes: [3.910s | 0.261s per plane]\n",
      "FFT timing for 15 DCR planes: [14.701s | 0.980s per plane]\n",
      "FFT timing for 15 DCR planes: [3.700s | 0.247s per plane]\n",
      "FFT timing for 15 DCR planes: [14.812s | 0.987s per plane]\n",
      "FFT timing for 15 DCR planes: [3.606s | 0.240s per plane]\n",
      "FFT timing for 15 DCR planes: [14.301s | 0.953s per plane]\n",
      "FFT timing for 15 DCR planes: [3.316s | 0.221s per plane]\n",
      "FFT timing for 15 DCR planes: [14.365s | 0.958s per plane]\n",
      "FFT timing for 15 DCR planes: [3.364s | 0.224s per plane]\n",
      "FFT timing for 15 DCR planes: [13.757s | 0.917s per plane]\n",
      "FFT timing for 15 DCR planes: [3.351s | 0.223s per plane]\n",
      "FFT timing for 15 DCR planes: [13.578s | 0.905s per plane]\n",
      "FFT timing for 15 DCR planes: [3.316s | 0.221s per plane]\n",
      "FFT timing for 15 DCR planes: [13.649s | 0.910s per plane]\n",
      "FFT timing for 15 DCR planes: [3.364s | 0.224s per plane]\n",
      "FFT timing for 15 DCR planes: [13.722s | 0.915s per plane]\n",
      "FFT timing for 15 DCR planes: [3.401s | 0.227s per plane]\n",
      "FFT timing for 15 DCR planes: [13.522s | 0.901s per plane]\n",
      "FFT timing for 15 DCR planes: [3.400s | 0.227s per plane]\n",
      "FFT timing for 15 DCR planes: [13.501s | 0.900s per plane]\n",
      "FFT timing for 15 DCR planes: [3.420s | 0.228s per plane]\n",
      "FFT timing for 15 DCR planes: [13.514s | 0.901s per plane]\n",
      "FFT timing for 15 DCR planes: [3.410s | 0.227s per plane]\n",
      "FFT timing for 15 DCR planes: [13.487s | 0.899s per plane]\n",
      "FFT timing for 15 DCR planes: [3.389s | 0.226s per plane]\n",
      "FFT timing for 15 DCR planes: [13.512s | 0.901s per plane]\n",
      "FFT timing for 15 DCR planes: [3.396s | 0.226s per plane]\n",
      "FFT timing for 15 DCR planes: [13.494s | 0.900s per plane]\n",
      "FFT timing for 15 DCR planes: [3.385s | 0.226s per plane]\n",
      "FFT timing for 15 DCR planes: [13.471s | 0.898s per plane]\n",
      "FFT timing for 15 DCR planes: [3.405s | 0.227s per plane]\n",
      "FFT timing for 15 DCR planes: [13.516s | 0.901s per plane]\n",
      "FFT timing for 15 DCR planes: [3.418s | 0.228s per plane]\n",
      "FFT timing for 15 DCR planes: [13.491s | 0.899s per plane]\n",
      "FFT timing for 15 DCR planes: [3.420s | 0.228s per plane]\n",
      "FFT timing for 15 DCR planes: [13.624s | 0.908s per plane]\n",
      "FFT timing for 15 DCR planes: [3.406s | 0.227s per plane]\n",
      "FFT timing for 15 DCR planes: [13.552s | 0.903s per plane]\n",
      "FFT timing for 15 DCR planes: [3.414s | 0.228s per plane]\n",
      "FFT timing for 15 DCR planes: [13.486s | 0.899s per plane]\n",
      "FFT timing for 15 DCR planes: [3.400s | 0.227s per plane]\n",
      "FFT timing for 15 DCR planes: [13.563s | 0.904s per plane]\n"
     ]
    }
   ],
   "source": [
    "expId = exposureId + 100*band_dict[band_name]\n",
    "for elevation in np.arange(elevation_min, elevation_max, elevation_step):\n",
    "    for azimuth in [0.0, 180.0]:\n",
    "        exposure = sim.convolve(elevation=elevation, azimuth=azimuth,\n",
    "                                instrument_noise=instrument_noise, sky_noise=sky_noise,\n",
    "                                photon_noise=photon_noise, exposureId=expId, obsid=expId)\n",
    "        filename = \"lsst_e_%3.3i_f%i_R22_S11_E000.fits\" % (expId, band_dict[band_name])\n",
    "        expId += 1\n",
    "        exposure.writeFits(output_directory + \"images/\" + filename)"
   ]
  },
  {
   "cell_type": "code",
   "execution_count": null,
   "metadata": {
    "collapsed": true
   },
   "outputs": [],
   "source": []
  }
 ],
 "metadata": {
  "kernelspec": {
   "display_name": "Python 2",
   "language": "python",
   "name": "python2"
  },
  "language_info": {
   "codemirror_mode": {
    "name": "ipython",
    "version": 2
   },
   "file_extension": ".py",
   "mimetype": "text/x-python",
   "name": "python",
   "nbconvert_exporter": "python",
   "pygments_lexer": "ipython2",
   "version": "2.7.12"
  }
 },
 "nbformat": 4,
 "nbformat_minor": 0
}
