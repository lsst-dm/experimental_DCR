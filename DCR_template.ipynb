{
 "cells": [
  {
   "cell_type": "code",
   "execution_count": 1,
   "metadata": {
    "collapsed": true
   },
   "outputs": [],
   "source": [
    "%matplotlib inline\n",
    "import matplotlib.pyplot as plt\n",
    "import matplotlib.cm as cm"
   ]
  },
  {
   "cell_type": "code",
   "execution_count": 2,
   "metadata": {
    "collapsed": false
   },
   "outputs": [],
   "source": [
    "import imp\n",
    "import numpy as np\n",
    "from scipy import constants\n",
    "\n",
    "import lsst.daf.persistence as daf_persistence\n",
    "from lsst.sims.photUtils import Bandpass, PhotometricParameters\n",
    "from lsst.utils import getPackageDir"
   ]
  },
  {
   "cell_type": "code",
   "execution_count": 3,
   "metadata": {
    "collapsed": true
   },
   "outputs": [],
   "source": [
    "def look(img, range=None, x_range=None, y_range=None):\n",
    "    \"\"\"Simple function to wrap matplotlib and display an image with a colorbar.\"\"\"\n",
    "    plt.figure(figsize=(16, 6))\n",
    "    if range is None:\n",
    "        range = [np.min(img), np.max(img)]\n",
    "    img_use = np.clip(img, range[0], range[1])\n",
    "    if x_range is not None:\n",
    "        x0 = int(x_range[0])\n",
    "        x1 = int(x_range[1])\n",
    "        if x0 < 0:\n",
    "            img_use = np.roll(img_use, -x0, axis=1)\n",
    "            x1 -= x0\n",
    "            x0 = 0\n",
    "        img_use = img_use[:, x0: x1]\n",
    "    if y_range is not None:\n",
    "        y0 = int(y_range[0])\n",
    "        y1 = int(y_range[1])\n",
    "        if y0 < 0:\n",
    "            img_use = np.roll(img_use, -y0, axis=0)\n",
    "            y1 -= y0\n",
    "            y0 = 0\n",
    "        img_use = img_use[y0: y1, :]\n",
    "    fig_show = plt.imshow(img_use, interpolation='none', origin='lower', cmap=cm.rainbow)\n",
    "    plt.colorbar(fig_show, orientation='vertical', shrink=1)\n",
    "#    cbar.set_label('DCR (arcsec)', labelpad=0)\n",
    "    plt.show()"
   ]
  },
  {
   "cell_type": "code",
   "execution_count": 4,
   "metadata": {
    "collapsed": true
   },
   "outputs": [],
   "source": [
    "repository = \"/Users/sullivan/LSST/simulations/test6/output_data\"\n",
    "obsid_range = [200, 224, 3]\n",
    "band_name = \"g\""
   ]
  },
  {
   "cell_type": "code",
   "execution_count": 5,
   "metadata": {
    "collapsed": false
   },
   "outputs": [],
   "source": [
    "imp.load_source('dcr_template', '/Users/sullivan/LSST/LSST-DCR/experimental_DCR/python/dcr_template.py')\n",
    "from dcr_template import DcrCorrection"
   ]
  },
  {
   "cell_type": "code",
   "execution_count": 6,
   "metadata": {
    "collapsed": false
   },
   "outputs": [],
   "source": [
    "dcr_model_with_psf = DcrCorrection(n_step=3, repository=repository, obsid_range=obsid_range, band_name=band_name,\n",
    "                                   use_psf=True,use_fft=False,kernel_size=9)"
   ]
  },
  {
   "cell_type": "code",
   "execution_count": null,
   "metadata": {
    "collapsed": false
   },
   "outputs": [],
   "source": [
    "dcr_model_with_fullpsf = DcrCorrection(n_step=3, repository=repository, obsid_range=obsid_range, band_name=band_name,\n",
    "                                   use_psf=True,use_fft=False,kernel_size=9)"
   ]
  },
  {
   "cell_type": "code",
   "execution_count": null,
   "metadata": {
    "collapsed": false
   },
   "outputs": [],
   "source": [
    "dcr_model_no_psf = DcrCorrection(n_step=3, repository=repository, obsid_range=obsid_range, band_name=band_name,\n",
    "                                   use_psf=False,use_fft=False,kernel_size=9)"
   ]
  },
  {
   "cell_type": "code",
   "execution_count": 7,
   "metadata": {
    "collapsed": false,
    "scrolled": false
   },
   "outputs": [
    {
     "name": "stdout",
     "output_type": "stream",
     "text": [
      "Working on column\n",
      " 0.........|.........|.........|.........|.........|.........|.........|.........|.........|.........\n",
      " 100.........|.........|.........|.........|.........|.........|.........|.........|.........|.........\n",
      " 200.........|.........|.........|.........|.........|.........|.........|.........|.........|.........\n",
      " 300.........|.........|.........|.........|.........|.........|.........|.........|.........|.........\n",
      " 400.........|.........|.........|.........|.........|.........|.........|.........|.........|.........\n",
      " 500.........|.........|.........|.........|.........|.........|.........|.........|.........|.........\n",
      " 600.........|.........|.........|.........|.........|.........|.........|.........|.........|.........\n",
      " 700.........|.........|.........|.........|.........|.........|.........|.........|.........|.........\n",
      " 800.........|.........|.........|.........|.........|.........|.........|.........|.........|.........\n",
      " 900.........|.........|.........|.........|.........|.........|.........|.........|.........|.........\n",
      " 1000.........|.........|...\n",
      "Finished building model.\n"
     ]
    }
   ],
   "source": [
    "dcr_model_with_psf.build_model(use_full=False, use_regularization=True)"
   ]
  },
  {
   "cell_type": "code",
   "execution_count": null,
   "metadata": {
    "collapsed": false,
    "scrolled": false
   },
   "outputs": [],
   "source": [
    "dcr_model_with_fullpsf.build_model(use_full=True, use_regularization=True)"
   ]
  },
  {
   "cell_type": "code",
   "execution_count": null,
   "metadata": {
    "collapsed": false
   },
   "outputs": [
    {
     "name": "stdout",
     "output_type": "stream",
     "text": [
      "Working on column\n",
      " 0.........|.........|.........|.........|.........|.........|.........|.........|.........|.........\n",
      " 100.........|.........|.........|.........|.........|.........|.........|.........|.........|.........\n",
      " 200.........|.........|.........|.........|.........|.........|.........|.........|.........|.........\n",
      " 300.........|.........|.........|.........|.........|.........|.........|.........|.........|.........\n",
      " 400.........|.........|.........|.........|.........|.........|.........|.........|.........|.........\n",
      " 500.........|.........|.........|.........|.........|.........|.........|.........|.........|.........\n",
      " 600.........|.........|.........|.........|.........|......"
     ]
    }
   ],
   "source": [
    "dcr_model_no_psf.build_model(use_full=False, use_regularization=True)"
   ]
  },
  {
   "cell_type": "code",
   "execution_count": 8,
   "metadata": {
    "collapsed": false
   },
   "outputs": [
    {
     "data": {
      "image/png": "[encoded data removed]",
      "text/plain": [
       "<matplotlib.figure.Figure at 0x11a2938d0>"
      ]
     },
     "metadata": {},
     "output_type": "display_data"
    },
    {
     "data": {
      "image/png": "[encoded data removed]",
      "text/plain": [
       "<matplotlib.figure.Figure at 0x11a21a610>"
      ]
     },
     "metadata": {},
     "output_type": "display_data"
    },
    {
     "data": {
      "image/png": "[encoded data removed]",
      "text/plain": [
       "<matplotlib.figure.Figure at 0x11a230d50>"
      ]
     },
     "metadata": {},
     "output_type": "display_data"
    },
    {
     "name": "stdout",
     "output_type": "stream",
     "text": [
      "SUM\n"
     ]
    },
    {
     "data": {
      "image/png": "[encoded data removed]",
      "text/plain": [
       "<matplotlib.figure.Figure at 0x11a293890>"
      ]
     },
     "metadata": {},
     "output_type": "display_data"
    }
   ],
   "source": [
    "for _i in range(dcr_model_with_psf.n_step):\n",
    "    look(dcr_model_with_psf.psf_model[_i, :, :])\n",
    "print(\"SUM\")\n",
    "look(np.sum(dcr_model_with_psf.psf_model,axis=0))"
   ]
  },
  {
   "cell_type": "code",
   "execution_count": null,
   "metadata": {
    "collapsed": false
   },
   "outputs": [],
   "source": [
    "for _i in range(dcr_model_no_psf.n_step):\n",
    "    look(dcr_model_no_psf.model[_i,:,:],x_range=[625+25,670+25], y_range=[815-53,860-53])\n",
    "    print(np.max(dcr_model_no_psf.model[_i,:,:]))\n",
    "print(\"SUM\")\n",
    "look(np.sum(dcr_model_no_psf.model,axis=0),x_range=[625+25,670+25], y_range=[815-53,860-53])\n",
    "\n",
    "print(\"DIFF\")\n",
    "look(dcr_model_no_psf.model[2,:,:] - dcr_model_no_psf.model[0,:,:])"
   ]
  },
  {
   "cell_type": "code",
   "execution_count": null,
   "metadata": {
    "collapsed": false,
    "scrolled": false
   },
   "outputs": [],
   "source": [
    "for exp in dcr_model_with_psf.exposures:\n",
    "    look(exp.getMaskedImage().getImage().getArray(),range=[-1e5,1e5],\n",
    "         x_range=[625+25,670+25], y_range=[815-53,860-53])"
   ]
  },
  {
   "cell_type": "code",
   "execution_count": 9,
   "metadata": {
    "collapsed": false
   },
   "outputs": [],
   "source": [
    "output_directory='/Users/sullivan/LSST/simulations/test6/dcr_with_psf/'\n",
    "template_exposure_gen = dcr_model_with_psf.generate_templates_from_model(obsid_range=[200,224],output_directory=output_directory)\n",
    "dcr_model_with_psf_im_arr = []\n",
    "for exp in template_exposure_gen:\n",
    "    dcr_model_with_psf_im_arr.append(exp.getMaskedImage().getImage().getArray())\n",
    "# for im in dcr_model_with_psf_im_arr:\n",
    "#     look(im, range=[-1e4,1e4])"
   ]
  },
  {
   "cell_type": "code",
   "execution_count": null,
   "metadata": {
    "collapsed": false
   },
   "outputs": [],
   "source": [
    "output_directory='/Users/sullivan/LSST/simulations/test6/dcr_with_fullpsf/'\n",
    "template_exposure_gen = dcr_model_with_fullpsf.generate_templates_from_model(obsid_range=[200,224], use_full=True,\n",
    "                                                                             output_directory=output_directory)\n",
    "dcr_model_with_fullpsf_im_arr = []\n",
    "for exp in template_exposure_gen:\n",
    "    dcr_model_with_fullpsf_im_arr.append(exp.getMaskedImage().getImage().getArray())\n",
    "# for im in dcr_model_with_psf_im_arr:\n",
    "#     look(im, range=[-1e4,1e4])"
   ]
  },
  {
   "cell_type": "code",
   "execution_count": null,
   "metadata": {
    "collapsed": false
   },
   "outputs": [],
   "source": [
    "output_directory='/Users/sullivan/LSST/simulations/test6/dcr_no_psf/'\n",
    "template_exposure_gen = dcr_model_no_psf.generate_templates_from_model(obsid_range=[200,224],output_directory=output_directory)\n",
    "dcr_model_no_psf_im_arr = []\n",
    "for exp in template_exposure_gen:\n",
    "    dcr_model_no_psf_im_arr.append(exp.getMaskedImage().getImage().getArray())"
   ]
  },
  {
   "cell_type": "code",
   "execution_count": null,
   "metadata": {
    "collapsed": true
   },
   "outputs": [],
   "source": [
    "dcr_model_with_psf_addnoise = DcrCorrection(n_step=3, repository=repository, obsid_range=obsid_range, band_name=band_name,\n",
    "                                            use_psf=True,use_fft=False,add_noise=True)\n",
    "dcr_model_with_psf_addnoise.build_model()"
   ]
  },
  {
   "cell_type": "code",
   "execution_count": null,
   "metadata": {
    "collapsed": false
   },
   "outputs": [],
   "source": [
    "dcr_model_no_psf_addnoise = DcrCorrection(n_step=3, repository=repository, obsid_range=obsid_range, band_name=band_name,\n",
    "                                          use_psf=False,use_fft=False,add_noise=True)\n",
    "dcr_model_no_psf_addnoise.build_model()"
   ]
  },
  {
   "cell_type": "code",
   "execution_count": null,
   "metadata": {
    "collapsed": true
   },
   "outputs": [],
   "source": [
    "output_directory='/Users/sullivan/LSST/simulations/test6/dcr_with_psf_addnoise/'\n",
    "template_exposure_gen = dcr_model_with_psf_addnoise.generate_templates_from_model(obsid_range=[200,224],output_directory=output_directory)\n",
    "dcr_model_with_psf_addnoise_im_arr = []\n",
    "for exp in template_exposure_gen:\n",
    "    dcr_model_with_psf_addnoise_im_arr.append(exp.getMaskedImage().getImage().getArray())"
   ]
  },
  {
   "cell_type": "code",
   "execution_count": null,
   "metadata": {
    "collapsed": true
   },
   "outputs": [],
   "source": [
    "output_directory='/Users/sullivan/LSST/simulations/test6/dcr_no_psf_addnoise/'\n",
    "template_exposure_gen = dcr_model_no_psf_addnoise.generate_templates_from_model(obsid_range=[200,224],output_directory=output_directory)\n",
    "dcr_model_no_psf_addnoise_im_arr = []\n",
    "for exp in template_exposure_gen:\n",
    "    dcr_model_no_psf_addnoise_im_arr.append(exp.getMaskedImage().getImage().getArray())"
   ]
  },
  {
   "cell_type": "code",
   "execution_count": null,
   "metadata": {
    "collapsed": false
   },
   "outputs": [],
   "source": []
  },
  {
   "cell_type": "code",
   "execution_count": null,
   "metadata": {
    "collapsed": true
   },
   "outputs": [],
   "source": []
  }
 ],
 "metadata": {
  "kernelspec": {
   "display_name": "Python 2",
   "language": "python",
   "name": "python2"
  },
  "language_info": {
   "codemirror_mode": {
    "name": "ipython",
    "version": 2
   },
   "file_extension": ".py",
   "mimetype": "text/x-python",
   "name": "python",
   "nbconvert_exporter": "python",
   "pygments_lexer": "ipython2",
   "version": "2.7.12"
  }
 },
 "nbformat": 4,
 "nbformat_minor": 0
}
