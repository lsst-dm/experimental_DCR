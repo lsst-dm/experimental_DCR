{
 "cells": [
  {
   "cell_type": "code",
   "execution_count": 1,
   "metadata": {},
   "outputs": [],
   "source": [
    "import numpy as np\n",
    "from python.notebook_utils import look\n",
    "from python.simulation_utils import simulation_wrapper, OpSim_wrapper"
   ]
  },
  {
   "cell_type": "code",
   "execution_count": 2,
   "metadata": {},
   "outputs": [],
   "source": [
    "%matplotlib notebook\n",
    "import matplotlib.pyplot as plt\n",
    "import matplotlib.cm as cm\n",
    "import lsst.afw.display.rgb as rgb"
   ]
  },
  {
   "cell_type": "code",
   "execution_count": null,
   "metadata": {},
   "outputs": [],
   "source": []
  },
  {
   "cell_type": "markdown",
   "metadata": {},
   "source": [
    "Load the 2018 baseline survey"
   ]
  },
  {
   "cell_type": "code",
   "execution_count": 3,
   "metadata": {},
   "outputs": [],
   "source": [
    "n_obs_list = [5, 8, 10]\n",
    "repeat_obs = 3  # number of different fields with the given n_obs to generate simulations of\n",
    "template_year = 1 \n",
    "alert_year = 2\n",
    "n_star = 10000\n",
    "n_quasar = 1000"
   ]
  },
  {
   "cell_type": "markdown",
   "metadata": {},
   "source": [
    "Connect to the database and set up for all of the simulations"
   ]
  },
  {
   "cell_type": "code",
   "execution_count": 4,
   "metadata": {},
   "outputs": [],
   "source": [
    "opsim = OpSim_wrapper(year=template_year, filt='g', opsim_db='/Users/sullivan/LSST/OpSim/baseline2018a.db',\n",
    "                      sim_directory=\"/Users/sullivan/LSST/simulations/OpSim/baseline2018a/\")"
   ]
  },
  {
   "cell_type": "markdown",
   "metadata": {},
   "source": [
    "Run all of the simulations.\n",
    "Multiple realizations for each selected number of observations, with and without variable seeing, and for two different years"
   ]
  },
  {
   "cell_type": "code",
   "execution_count": null,
   "metadata": {
    "scrolled": false
   },
   "outputs": [
    {
     "name": "stdout",
     "output_type": "stream",
     "text": [
      "Selecting 5 obs from field 2587, with seeing range 0.551 to 0.991 and airmass range 1.144 to 1.186\n",
      "Number and flux contribution of stars of each type:\n",
      " [M 7622| 3.04%] [K 1222| 3.15%] [G 762| 5.99%] [F 325| 7.45%] [A 61| 18.79%] [B 8| 61.58%] [O 0| 0.00%]\n",
      "Simulating 2485 stars within observable region\n",
      "Time to model 2477 stars: [14.120s | 0.00570s per star]\n",
      "Time to model 8 bright stars: [12.107s | 1.51336s per star]\n",
      "Simulating 262 quasars within observable region\n",
      "Time to model 261 stars: [2.583s | 0.00990s per star]\n",
      "Time to model 1 bright star: [8.032s]\n",
      "Writing 1135 stars brighter than 16.0 mag to reference catalog in 5 bands\n",
      "Min/max magnitude:  5.953288149452861 21.802216368007088\n"
     ]
    }
   ],
   "source": [
    "for n_obs in n_obs_list:\n",
    "    rng = np.random.RandomState(n_obs)\n",
    "    for rpt in range(repeat_obs):\n",
    "        index = int(np.rint(rng.rand()*1000))\n",
    "        opsim.set_field(n_obs=n_obs, index=index, year=template_year)\n",
    "        sim = opsim.initialize_simulation(n_star=n_star, n_quasar=n_quasar)\n",
    "        opsim.run_simulation(sim, use_seeing=False, write_catalog=True, initialize_directory=True)\n",
    "        opsim.run_simulation(sim, use_seeing=True, write_catalog=True, initialize_directory=True)\n",
    "        \n",
    "        opsim.update_year(alert_year)\n",
    "        opsim.run_simulation(sim, use_seeing=False, write_catalog=False, initialize_directory=False)\n",
    "        opsim.run_simulation(sim, use_seeing=True, write_catalog=False, initialize_directory=False)"
   ]
  },
  {
   "cell_type": "code",
   "execution_count": null,
   "metadata": {},
   "outputs": [],
   "source": []
  },
  {
   "cell_type": "code",
   "execution_count": null,
   "metadata": {},
   "outputs": [],
   "source": []
  }
 ],
 "metadata": {
  "kernelspec": {
   "display_name": "Python 3",
   "language": "python",
   "name": "python3"
  },
  "language_info": {
   "codemirror_mode": {
    "name": "ipython",
    "version": 3
   },
   "file_extension": ".py",
   "mimetype": "text/x-python",
   "name": "python",
   "nbconvert_exporter": "python",
   "pygments_lexer": "ipython3",
   "version": "3.6.6"
  }
 },
 "nbformat": 4,
 "nbformat_minor": 2
}
